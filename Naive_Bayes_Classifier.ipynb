{
  "nbformat": 4,
  "nbformat_minor": 0,
  "metadata": {
    "colab": {
      "provenance": []
    },
    "kernelspec": {
      "name": "python3",
      "display_name": "Python 3"
    },
    "language_info": {
      "name": "python"
    }
  },
  "cells": [
    {
      "cell_type": "code",
      "execution_count": null,
      "metadata": {
        "id": "4OasCOne_6Ck"
      },
      "outputs": [],
      "source": [
        "import numpy as np\n",
        "import pandas as pd\n",
        "import matplotlib.pyplot as plt"
      ]
    },
    {
      "cell_type": "code",
      "source": [
        "# Get the data\n",
        "df = pd.read_csv('/content/breast-cancer.data', header=None)"
      ],
      "metadata": {
        "id": "EOooNSQUAE5n"
      },
      "execution_count": null,
      "outputs": []
    },
    {
      "cell_type": "code",
      "source": [
        "# Header none because there is no proper name for specific column in dataset\n",
        "df.head()"
      ],
      "metadata": {
        "colab": {
          "base_uri": "https://localhost:8080/",
          "height": 206
        },
        "id": "5EVO9KfSAQec",
        "outputId": "f351241c-bc8f-4614-ade9-29f0052374ac"
      },
      "execution_count": null,
      "outputs": [
        {
          "output_type": "execute_result",
          "data": {
            "text/plain": [
              "                      0      1        2      3    4   5  6      7          8  \\\n",
              "0  no-recurrence-events  30-39  premeno  30-34  0-2  no  3   left   left_low   \n",
              "1  no-recurrence-events  40-49  premeno  20-24  0-2  no  2  right   right_up   \n",
              "2  no-recurrence-events  40-49  premeno  20-24  0-2  no  2   left   left_low   \n",
              "3  no-recurrence-events  60-69     ge40  15-19  0-2  no  2  right    left_up   \n",
              "4  no-recurrence-events  40-49  premeno    0-4  0-2  no  2  right  right_low   \n",
              "\n",
              "    9  \n",
              "0  no  \n",
              "1  no  \n",
              "2  no  \n",
              "3  no  \n",
              "4  no  "
            ],
            "text/html": [
              "\n",
              "  <div id=\"df-d848d616-0724-42ae-a265-7f70ee256c46\">\n",
              "    <div class=\"colab-df-container\">\n",
              "      <div>\n",
              "<style scoped>\n",
              "    .dataframe tbody tr th:only-of-type {\n",
              "        vertical-align: middle;\n",
              "    }\n",
              "\n",
              "    .dataframe tbody tr th {\n",
              "        vertical-align: top;\n",
              "    }\n",
              "\n",
              "    .dataframe thead th {\n",
              "        text-align: right;\n",
              "    }\n",
              "</style>\n",
              "<table border=\"1\" class=\"dataframe\">\n",
              "  <thead>\n",
              "    <tr style=\"text-align: right;\">\n",
              "      <th></th>\n",
              "      <th>0</th>\n",
              "      <th>1</th>\n",
              "      <th>2</th>\n",
              "      <th>3</th>\n",
              "      <th>4</th>\n",
              "      <th>5</th>\n",
              "      <th>6</th>\n",
              "      <th>7</th>\n",
              "      <th>8</th>\n",
              "      <th>9</th>\n",
              "    </tr>\n",
              "  </thead>\n",
              "  <tbody>\n",
              "    <tr>\n",
              "      <th>0</th>\n",
              "      <td>no-recurrence-events</td>\n",
              "      <td>30-39</td>\n",
              "      <td>premeno</td>\n",
              "      <td>30-34</td>\n",
              "      <td>0-2</td>\n",
              "      <td>no</td>\n",
              "      <td>3</td>\n",
              "      <td>left</td>\n",
              "      <td>left_low</td>\n",
              "      <td>no</td>\n",
              "    </tr>\n",
              "    <tr>\n",
              "      <th>1</th>\n",
              "      <td>no-recurrence-events</td>\n",
              "      <td>40-49</td>\n",
              "      <td>premeno</td>\n",
              "      <td>20-24</td>\n",
              "      <td>0-2</td>\n",
              "      <td>no</td>\n",
              "      <td>2</td>\n",
              "      <td>right</td>\n",
              "      <td>right_up</td>\n",
              "      <td>no</td>\n",
              "    </tr>\n",
              "    <tr>\n",
              "      <th>2</th>\n",
              "      <td>no-recurrence-events</td>\n",
              "      <td>40-49</td>\n",
              "      <td>premeno</td>\n",
              "      <td>20-24</td>\n",
              "      <td>0-2</td>\n",
              "      <td>no</td>\n",
              "      <td>2</td>\n",
              "      <td>left</td>\n",
              "      <td>left_low</td>\n",
              "      <td>no</td>\n",
              "    </tr>\n",
              "    <tr>\n",
              "      <th>3</th>\n",
              "      <td>no-recurrence-events</td>\n",
              "      <td>60-69</td>\n",
              "      <td>ge40</td>\n",
              "      <td>15-19</td>\n",
              "      <td>0-2</td>\n",
              "      <td>no</td>\n",
              "      <td>2</td>\n",
              "      <td>right</td>\n",
              "      <td>left_up</td>\n",
              "      <td>no</td>\n",
              "    </tr>\n",
              "    <tr>\n",
              "      <th>4</th>\n",
              "      <td>no-recurrence-events</td>\n",
              "      <td>40-49</td>\n",
              "      <td>premeno</td>\n",
              "      <td>0-4</td>\n",
              "      <td>0-2</td>\n",
              "      <td>no</td>\n",
              "      <td>2</td>\n",
              "      <td>right</td>\n",
              "      <td>right_low</td>\n",
              "      <td>no</td>\n",
              "    </tr>\n",
              "  </tbody>\n",
              "</table>\n",
              "</div>\n",
              "      <button class=\"colab-df-convert\" onclick=\"convertToInteractive('df-d848d616-0724-42ae-a265-7f70ee256c46')\"\n",
              "              title=\"Convert this dataframe to an interactive table.\"\n",
              "              style=\"display:none;\">\n",
              "        \n",
              "  <svg xmlns=\"http://www.w3.org/2000/svg\" height=\"24px\"viewBox=\"0 0 24 24\"\n",
              "       width=\"24px\">\n",
              "    <path d=\"M0 0h24v24H0V0z\" fill=\"none\"/>\n",
              "    <path d=\"M18.56 5.44l.94 2.06.94-2.06 2.06-.94-2.06-.94-.94-2.06-.94 2.06-2.06.94zm-11 1L8.5 8.5l.94-2.06 2.06-.94-2.06-.94L8.5 2.5l-.94 2.06-2.06.94zm10 10l.94 2.06.94-2.06 2.06-.94-2.06-.94-.94-2.06-.94 2.06-2.06.94z\"/><path d=\"M17.41 7.96l-1.37-1.37c-.4-.4-.92-.59-1.43-.59-.52 0-1.04.2-1.43.59L10.3 9.45l-7.72 7.72c-.78.78-.78 2.05 0 2.83L4 21.41c.39.39.9.59 1.41.59.51 0 1.02-.2 1.41-.59l7.78-7.78 2.81-2.81c.8-.78.8-2.07 0-2.86zM5.41 20L4 18.59l7.72-7.72 1.47 1.35L5.41 20z\"/>\n",
              "  </svg>\n",
              "      </button>\n",
              "      \n",
              "  <style>\n",
              "    .colab-df-container {\n",
              "      display:flex;\n",
              "      flex-wrap:wrap;\n",
              "      gap: 12px;\n",
              "    }\n",
              "\n",
              "    .colab-df-convert {\n",
              "      background-color: #E8F0FE;\n",
              "      border: none;\n",
              "      border-radius: 50%;\n",
              "      cursor: pointer;\n",
              "      display: none;\n",
              "      fill: #1967D2;\n",
              "      height: 32px;\n",
              "      padding: 0 0 0 0;\n",
              "      width: 32px;\n",
              "    }\n",
              "\n",
              "    .colab-df-convert:hover {\n",
              "      background-color: #E2EBFA;\n",
              "      box-shadow: 0px 1px 2px rgba(60, 64, 67, 0.3), 0px 1px 3px 1px rgba(60, 64, 67, 0.15);\n",
              "      fill: #174EA6;\n",
              "    }\n",
              "\n",
              "    [theme=dark] .colab-df-convert {\n",
              "      background-color: #3B4455;\n",
              "      fill: #D2E3FC;\n",
              "    }\n",
              "\n",
              "    [theme=dark] .colab-df-convert:hover {\n",
              "      background-color: #434B5C;\n",
              "      box-shadow: 0px 1px 3px 1px rgba(0, 0, 0, 0.15);\n",
              "      filter: drop-shadow(0px 1px 2px rgba(0, 0, 0, 0.3));\n",
              "      fill: #FFFFFF;\n",
              "    }\n",
              "  </style>\n",
              "\n",
              "      <script>\n",
              "        const buttonEl =\n",
              "          document.querySelector('#df-d848d616-0724-42ae-a265-7f70ee256c46 button.colab-df-convert');\n",
              "        buttonEl.style.display =\n",
              "          google.colab.kernel.accessAllowed ? 'block' : 'none';\n",
              "\n",
              "        async function convertToInteractive(key) {\n",
              "          const element = document.querySelector('#df-d848d616-0724-42ae-a265-7f70ee256c46');\n",
              "          const dataTable =\n",
              "            await google.colab.kernel.invokeFunction('convertToInteractive',\n",
              "                                                     [key], {});\n",
              "          if (!dataTable) return;\n",
              "\n",
              "          const docLinkHtml = 'Like what you see? Visit the ' +\n",
              "            '<a target=\"_blank\" href=https://colab.research.google.com/notebooks/data_table.ipynb>data table notebook</a>'\n",
              "            + ' to learn more about interactive tables.';\n",
              "          element.innerHTML = '';\n",
              "          dataTable['output_type'] = 'display_data';\n",
              "          await google.colab.output.renderOutput(dataTable, element);\n",
              "          const docLink = document.createElement('div');\n",
              "          docLink.innerHTML = docLinkHtml;\n",
              "          element.appendChild(docLink);\n",
              "        }\n",
              "      </script>\n",
              "    </div>\n",
              "  </div>\n",
              "  "
            ]
          },
          "metadata": {},
          "execution_count": 7
        }
      ]
    },
    {
      "cell_type": "code",
      "source": [
        "df.columns"
      ],
      "metadata": {
        "colab": {
          "base_uri": "https://localhost:8080/"
        },
        "id": "VMxwEDyjART3",
        "outputId": "a9ee7320-9cdf-4750-da43-2ea9af3214fb"
      },
      "execution_count": null,
      "outputs": [
        {
          "output_type": "execute_result",
          "data": {
            "text/plain": [
              "Int64Index([0, 1, 2, 3, 4, 5, 6, 7, 8, 9], dtype='int64')"
            ]
          },
          "metadata": {},
          "execution_count": 8
        }
      ]
    },
    {
      "cell_type": "code",
      "source": [
        "df = df.sample(frac=1,random_state=42).reset_index(drop=True) #shuffling to make samples iid"
      ],
      "metadata": {
        "id": "XUYpV5MWAhwB"
      },
      "execution_count": null,
      "outputs": []
    },
    {
      "cell_type": "code",
      "source": [
        "# shuffling all the values in data so that we can split the data (frac = 1 means for all data)\n",
        "df = df.sample(frac=1, random_state=42).reset_index(drop = True)"
      ],
      "metadata": {
        "id": "UcSVR7UuApqG"
      },
      "execution_count": null,
      "outputs": []
    },
    {
      "cell_type": "code",
      "source": [
        "# Get Train and Test sets\n",
        "N = df.shape[0]\n",
        "df_train = df[:int(N*0.8)]\n",
        "df_test = df[int(N*0.8):]"
      ],
      "metadata": {
        "id": "fpSD1frMA3br"
      },
      "execution_count": null,
      "outputs": []
    },
    {
      "cell_type": "markdown",
      "source": [
        "* Posterior distribution for class $c$ with feature $x$\n",
        "$$ p( c | x )  = \\frac{p(c) p( x | c)}{p(x)} $$\n",
        "* Here $x =[x_1, ..., x_d]$ and $d$ is the feature size\n",
        "$$p(x) = p([x_1, \\ldots, x_d])$$\n",
        "* Naive bayes assumption\n",
        "$$p( x | c) = \\prod_{i=1}^d p( x_i | c) $$\n",
        "* Posterior becomes,\n",
        "$$p( c | x )  \\propto  p(c)  \\prod_{i=1}^d p( x_i | c) $$\n",
        "\n",
        "We need to find Prior probability of classes (ie nonreccurent and recurrent) and likelihood probabilities\n"
      ],
      "metadata": {
        "id": "3omI7QMbBG6x"
      }
    },
    {
      "cell_type": "markdown",
      "source": [
        "# Prior Probability"
      ],
      "metadata": {
        "id": "v3hkEUTXC507"
      }
    },
    {
      "cell_type": "code",
      "source": [
        "N = df_train.shape[0]\n",
        "prior = dict(df_train[0].value_counts())\n",
        "prior = dict([(k,v/N) for k,v in prior.items()])"
      ],
      "metadata": {
        "id": "XE9EPKuBDKHd"
      },
      "execution_count": null,
      "outputs": []
    },
    {
      "cell_type": "code",
      "source": [
        "prior"
      ],
      "metadata": {
        "colab": {
          "base_uri": "https://localhost:8080/"
        },
        "id": "rYQx4b9sDUYj",
        "outputId": "c8866807-5461-4002-efcd-e4172521944c"
      },
      "execution_count": null,
      "outputs": [
        {
          "output_type": "execute_result",
          "data": {
            "text/plain": [
              "{'no-recurrence-events': 0.6929824561403509,\n",
              " 'recurrence-events': 0.30701754385964913}"
            ]
          },
          "metadata": {},
          "execution_count": 17
        }
      ]
    },
    {
      "cell_type": "markdown",
      "source": [
        "# Likelihood Estimation"
      ],
      "metadata": {
        "id": "oNSI0nnQD1AF"
      }
    },
    {
      "cell_type": "markdown",
      "source": [
        "* Since each feature takes discrete values we use the categorical distribution over each variable\n",
        "\n",
        "* $p(x|c)= \\prod_{i=1}^{d}p(x_i| c) $\n",
        "\n",
        "* Let categorical variable $x_i \\in \\{a_1, a_2, \\ldots, a_{m} \\}$ \n",
        "$$p(x_i= a_j |c)= \\pi_{a_j}^{c}$$\n",
        "\n",
        "That is $x_i$ is feature and we have k (Here = 9) features. Each features $x_i$ contains different category\n"
      ],
      "metadata": {
        "id": "8btHxxxYD4k6"
      }
    },
    {
      "cell_type": "markdown",
      "source": [
        "$$\\sum_{j=1}^{m}  \\pi_{a_j}^{c} = 1$$\n",
        "$$p(x_i|c)= \\prod_{j=1}^{m} {\\pi_{a_j}^{c}}^{x_i =a_j } $$\n",
        "* Here $\\pi_{a_j}^{c}$ can be estimated using maximum likelihood estimation,\n",
        "* Lets assume there are $N_c$ samples from class c, then\n",
        "$$\\prod_{k=1}^{N_c} p(x_i^k|c)= \\prod_{k=1}^{N_c} \\prod_{j=1}^{m} {\\pi_{a_j}^{c}}^{x_i^k =a_j }  $$\n",
        "$$\\prod_{k=1}^{N_c} p(x_i^k|c)=   \\prod_{j=1}^{m} {\\pi_{a_j}^{c}}^{N_{a_j}^{c}} $$"
      ],
      "metadata": {
        "id": "V_WS1heqEUZZ"
      }
    },
    {
      "cell_type": "markdown",
      "source": [
        "* The negative loglikelihood loss is,\n",
        "$$ Loss = -1  * {N_{a_j}^{c}}  * \\sum_{j=1}^{m} \\log{\\pi_{a_j}^{c}} $$\n",
        "* Then do a constrainted loss minimization of the following loss, \n",
        "$$ Loss = -1  * {N_{a_j}^{c}}  * \\sum_{j=1}^{m} \\log{\\pi_{a_j}^{c}} + \\lambda (\\sum_{j=1}^{m}  \\pi_{a_j}^{c} -1) $$\n",
        "* Minimize the above loss function with respect to $\\pi_{a_j}^{c}$, then you will get"
      ],
      "metadata": {
        "id": "xk1UMNMhEyCk"
      }
    },
    {
      "cell_type": "markdown",
      "source": [
        "\n",
        "$$\\pi_{a_j}^{c}  = \\frac{N_{a_j}^{c}}{N_{c}}$$\n",
        "* Here $N_{a_j}^{c}$ is the number of times feature $x_i$ takes value of $a_j$ for a sample from class $c$\n",
        "* Repeat the same procedure for each categorical features"
      ],
      "metadata": {
        "id": "JMYptUwrQm3R"
      }
    },
    {
      "cell_type": "code",
      "source": [
        "likeli = {}\n",
        "for class_i in prior.keys():\n",
        "    df_class = df_train[df_train[0]==class_i] # values in that set\n",
        "    N_class = df_class.shape[0]\n",
        "    likeli[class_i]= {}\n",
        "    for col in range(1, 10):\n",
        "        feature_count = dict(df_class[col].value_counts())\n",
        "        keys = df[col].unique()\n",
        "        likeli[class_i][col]= dict( [(k, feature_count[k]/N_class)\\\n",
        "            if k in feature_count else (k, 0) for k in keys ] )"
      ],
      "metadata": {
        "id": "QjDqDPYBQne2"
      },
      "execution_count": null,
      "outputs": []
    },
    {
      "cell_type": "code",
      "source": [
        "likeli"
      ],
      "metadata": {
        "colab": {
          "base_uri": "https://localhost:8080/"
        },
        "id": "FdPkDT5cQ5VP",
        "outputId": "7151e8b5-68d5-4e15-c53f-9afbf7ee6cb6"
      },
      "execution_count": null,
      "outputs": [
        {
          "output_type": "execute_result",
          "data": {
            "text/plain": [
              "{'no-recurrence-events': {1: {'40-49': 0.31645569620253167,\n",
              "   '60-69': 0.1962025316455696,\n",
              "   '50-59': 0.34177215189873417,\n",
              "   '30-39': 0.12025316455696203,\n",
              "   '70-79': 0.0189873417721519,\n",
              "   '20-29': 0.006329113924050633},\n",
              "  2: {'premeno': 0.5316455696202531,\n",
              "   'ge40': 0.44936708860759494,\n",
              "   'lt40': 0.0189873417721519},\n",
              "  3: {'20-24': 0.16455696202531644,\n",
              "   '45-49': 0.012658227848101266,\n",
              "   '30-34': 0.18354430379746836,\n",
              "   '40-44': 0.0759493670886076,\n",
              "   '15-19': 0.08860759493670886,\n",
              "   '10-14': 0.1518987341772152,\n",
              "   '50-54': 0.02531645569620253,\n",
              "   '35-39': 0.06329113924050633,\n",
              "   '25-29': 0.17088607594936708,\n",
              "   '0-4': 0.0379746835443038,\n",
              "   '5-9': 0.02531645569620253},\n",
              "  4: {'0-2': 0.8291139240506329,\n",
              "   '24-26': 0,\n",
              "   '3-5': 0.08860759493670886,\n",
              "   '6-8': 0.04430379746835443,\n",
              "   '9-11': 0.012658227848101266,\n",
              "   '15-17': 0.0189873417721519,\n",
              "   '12-14': 0.006329113924050633},\n",
              "  5: {'no': 0.8607594936708861,\n",
              "   'yes': 0.11392405063291139,\n",
              "   '?': 0.02531645569620253},\n",
              "  6: {2: 0.5, 3: 0.20253164556962025, 1: 0.2974683544303797},\n",
              "  7: {'right': 0.5, 'left': 0.5},\n",
              "  8: {'left_up': 0.3227848101265823,\n",
              "   'left_low': 0.37341772151898733,\n",
              "   'right_up': 0.10126582278481013,\n",
              "   'right_low': 0.10126582278481013,\n",
              "   'central': 0.10126582278481013,\n",
              "   '?': 0},\n",
              "  9: {'no': 0.8354430379746836, 'yes': 0.16455696202531644}},\n",
              " 'recurrence-events': {1: {'40-49': 0.35714285714285715,\n",
              "   '60-69': 0.17142857142857143,\n",
              "   '50-59': 0.2714285714285714,\n",
              "   '30-39': 0.18571428571428572,\n",
              "   '70-79': 0.014285714285714285,\n",
              "   '20-29': 0},\n",
              "  2: {'premeno': 0.6142857142857143,\n",
              "   'ge40': 0.35714285714285715,\n",
              "   'lt40': 0.02857142857142857},\n",
              "  3: {'20-24': 0.2,\n",
              "   '45-49': 0.014285714285714285,\n",
              "   '30-34': 0.3,\n",
              "   '40-44': 0.02857142857142857,\n",
              "   '15-19': 0.08571428571428572,\n",
              "   '10-14': 0.014285714285714285,\n",
              "   '50-54': 0.04285714285714286,\n",
              "   '35-39': 0.1,\n",
              "   '25-29': 0.21428571428571427,\n",
              "   '0-4': 0,\n",
              "   '5-9': 0},\n",
              "  4: {'0-2': 0.5857142857142857,\n",
              "   '24-26': 0.014285714285714285,\n",
              "   '3-5': 0.14285714285714285,\n",
              "   '6-8': 0.11428571428571428,\n",
              "   '9-11': 0.08571428571428572,\n",
              "   '15-17': 0.02857142857142857,\n",
              "   '12-14': 0.02857142857142857},\n",
              "  5: {'no': 0.6285714285714286,\n",
              "   'yes': 0.32857142857142857,\n",
              "   '?': 0.04285714285714286},\n",
              "  6: {2: 0.32857142857142857, 3: 0.5142857142857142, 1: 0.15714285714285714},\n",
              "  7: {'right': 0.4142857142857143, 'left': 0.5857142857142857},\n",
              "  8: {'left_up': 0.32857142857142857,\n",
              "   'left_low': 0.4,\n",
              "   'right_up': 0.14285714285714285,\n",
              "   'right_low': 0.07142857142857142,\n",
              "   'central': 0.04285714285714286,\n",
              "   '?': 0.014285714285714285},\n",
              "  9: {'no': 0.6142857142857143, 'yes': 0.38571428571428573}}}"
            ]
          },
          "metadata": {},
          "execution_count": 19
        }
      ]
    },
    {
      "cell_type": "code",
      "source": [
        "plt.bar(likeli['recurrence-events'][1].keys(), likeli['recurrence-events'][1].values())\n",
        "plt.xlabel('categories')\n",
        "plt.ylabel('likelihood')\n",
        "plt.title('Likelhood Plot')\n",
        "plt.show()"
      ],
      "metadata": {
        "colab": {
          "base_uri": "https://localhost:8080/",
          "height": 295
        },
        "id": "PfRTFk7hQ7HW",
        "outputId": "69236ddb-ed93-4281-937c-cda49bd405b2"
      },
      "execution_count": null,
      "outputs": [
        {
          "output_type": "display_data",
          "data": {
            "text/plain": [
              "<Figure size 432x288 with 1 Axes>"
            ],
            "image/png": "[encoded data removed]"
          },
          "metadata": {
            "needs_background": "light"
          }
        }
      ]
    },
    {
      "cell_type": "markdown",
      "source": [
        "# Posterior Inference"
      ],
      "metadata": {
        "id": "idLh91jlRB0a"
      }
    },
    {
      "cell_type": "markdown",
      "source": [
        "$$p( c | x )  \\propto  p(c)  \\prod_{i=1}^d p( x_i | c) $$\n",
        "$$\\hat{c}= \\underset{c}{\\mathrm{argmax}}\\ p(c | x) $$\n",
        "To avoid numerical issues due finite precision from the multiplication of values between 0 and 1, we take log probability, so the multiplications become sums as shown below,\n",
        "$$\\hat{c}= \\underset{c}{\\mathrm{argmax}} \\log p(c | x) $$\n",
        "$$\\hat{c}= \\underset{c}{\\mathrm{argmax}}\\ ( \\log ( p(c) + \\sum \\log p(x_i | c) ) $$\n"
      ],
      "metadata": {
        "id": "2oPMurc4RFGO"
      }
    },
    {
      "cell_type": "code",
      "source": [
        "class_names = list(prior.keys())"
      ],
      "metadata": {
        "id": "pw5C1O-BRIJT"
      },
      "execution_count": null,
      "outputs": []
    },
    {
      "cell_type": "code",
      "source": [
        "class_names"
      ],
      "metadata": {
        "colab": {
          "base_uri": "https://localhost:8080/"
        },
        "id": "MJfff_9vRzhl",
        "outputId": "3af0ca2b-c02c-4fe6-ab82-754988d92f9b"
      },
      "execution_count": null,
      "outputs": [
        {
          "output_type": "execute_result",
          "data": {
            "text/plain": [
              "dict_keys(['no-recurrence-events', 'recurrence-events'])"
            ]
          },
          "metadata": {},
          "execution_count": 23
        }
      ]
    },
    {
      "cell_type": "code",
      "source": [
        "pos = np.zeros((df_train.shape[0], len(class_names)))\n",
        "for i in range(df_train.shape[0]):\n",
        "  for j,cls in enumerate(class_names):\n",
        "    pos_i = np.log(prior[cls])\n",
        "    for col in range(1,10):\n",
        "      pos_i = pos_i + np.log(likeli[cls][col][df_train.loc[i,col]])\n",
        "    pos[i,j] = pos_i"
      ],
      "metadata": {
        "colab": {
          "base_uri": "https://localhost:8080/"
        },
        "id": "ZURVS3XyR0rV",
        "outputId": "c5979a66-0c4e-4a01-a406-2eb558b1b611"
      },
      "execution_count": null,
      "outputs": [
        {
          "output_type": "stream",
          "name": "stderr",
          "text": [
            "<ipython-input-26-17c738502a5d>:6: RuntimeWarning: divide by zero encountered in log\n",
            "  pos_i = pos_i + np.log(likeli[cls][col][df_train.loc[i,col]])\n"
          ]
        }
      ]
    },
    {
      "cell_type": "code",
      "source": [
        "pos # This shows for all data in train set probability of being in c1 or c2, where c1 and c2 are the classes"
      ],
      "metadata": {
        "colab": {
          "base_uri": "https://localhost:8080/"
        },
        "id": "oy_n8QAfSG5f",
        "outputId": "f1cadfb1-c49e-4372-8eab-575192f6eb5e"
      },
      "execution_count": null,
      "outputs": [
        {
          "output_type": "execute_result",
          "data": {
            "text/plain": [
              "array([[ -6.98779408,  -8.90092822],\n",
              "       [        -inf, -14.01384116],\n",
              "       [-11.03173701, -11.46236227],\n",
              "       [ -8.94154365,  -8.88034751],\n",
              "       [ -9.33005108,  -8.78723848],\n",
              "       [-12.26800207, -13.99948206],\n",
              "       [ -8.15326706, -10.91482063],\n",
              "       [ -8.68910916, -11.54871923],\n",
              "       [ -9.74631599, -13.96300831],\n",
              "       [ -7.67831292, -13.09434563],\n",
              "       [-11.39607483, -10.8037117 ],\n",
              "       [ -8.08759795, -13.35716766],\n",
              "       [-11.13047437, -12.18302997],\n",
              "       [-15.87322296, -11.82749863],\n",
              "       [ -8.1072942 , -10.48153301],\n",
              "       [ -9.01300261,  -8.87054351],\n",
              "       [-20.29508542, -18.7767918 ],\n",
              "       [-10.33858983, -10.71002621],\n",
              "       [ -7.48907092,  -9.70354695],\n",
              "       [ -9.66888969,  -9.25699061],\n",
              "       [-13.83850661, -12.07990033],\n",
              "       [-10.22384419,         -inf],\n",
              "       [ -8.35422661,  -9.46349379],\n",
              "       [ -8.10929066, -10.86881727],\n",
              "       [ -9.37654633, -13.33946808],\n",
              "       [-14.05809897, -10.95441864],\n",
              "       [-14.56713293, -13.98740791],\n",
              "       [ -7.60683329,  -9.40194984],\n",
              "       [ -8.04406776, -10.50935552],\n",
              "       [-11.18430614,         -inf],\n",
              "       [ -7.8887696 ,  -9.86785   ],\n",
              "       [ -8.66633124, -10.81830723],\n",
              "       [ -8.42904733,  -8.75431206],\n",
              "       [ -7.6339668 , -10.17722168],\n",
              "       [ -6.80434194,  -8.63522505],\n",
              "       [ -8.03232962,  -9.59300508],\n",
              "       [-13.01456544,         -inf],\n",
              "       [ -7.53260111, -12.5513591 ],\n",
              "       [-11.34910037, -11.51058538],\n",
              "       [-15.35702082, -15.21104503],\n",
              "       [-12.34829418, -10.06339905],\n",
              "       [ -8.7558718 , -11.21557478],\n",
              "       [ -7.77192597,  -9.28915152],\n",
              "       [ -7.86634449,  -9.86851224],\n",
              "       [ -9.66253708,  -9.79373548],\n",
              "       [ -9.59617494, -11.91406645],\n",
              "       [-12.53905044, -10.75195907],\n",
              "       [ -8.36547907,  -9.88698852],\n",
              "       [-12.06808942, -11.07155055],\n",
              "       [ -7.04122963,  -9.64869648],\n",
              "       [ -8.03232962,  -9.59300508],\n",
              "       [-10.05318485,  -9.7890951 ],\n",
              "       [ -7.5682977 , -12.27329248],\n",
              "       [ -8.23820687, -11.75457128],\n",
              "       [ -6.7273809 ,  -8.56338566],\n",
              "       [ -8.94800576, -10.59676496],\n",
              "       [ -9.19465773, -13.37369208],\n",
              "       [ -8.14703099, -10.59153391],\n",
              "       [ -8.0378317 ,  -9.67524318],\n",
              "       [ -6.95005375,  -8.48565911],\n",
              "       [ -8.1072942 , -10.82780925],\n",
              "       [-17.21343532, -16.34168592],\n",
              "       [ -8.62859091, -11.09559059],\n",
              "       [-15.90869314, -12.15933048],\n",
              "       [ -8.64830783, -10.88273231],\n",
              "       [-10.58095209,         -inf],\n",
              "       [ -7.8537657 ,  -8.03763439],\n",
              "       [-11.06242354, -12.49209763],\n",
              "       [-10.51708001,         -inf],\n",
              "       [ -8.79248155,  -9.41982528],\n",
              "       [ -9.22393408, -10.31191519],\n",
              "       [ -9.37654633, -13.33946808],\n",
              "       [ -7.46112148,  -9.20523955],\n",
              "       [-12.81033378, -13.02218076],\n",
              "       [-14.70528327, -13.2401935 ],\n",
              "       [ -7.98268191,  -8.92338839],\n",
              "       [ -7.58713704, -12.27758449],\n",
              "       [ -6.98779408,  -8.90092822],\n",
              "       [-12.73387704, -10.33026433],\n",
              "       [ -8.05964295,  -8.64895155],\n",
              "       [ -8.13457241, -11.04145078],\n",
              "       [ -8.31689397,  -9.78868781],\n",
              "       [ -8.28276765,  -8.78074532],\n",
              "       [ -8.00755524, -10.3718341 ],\n",
              "       [ -8.94800576, -10.94304119],\n",
              "       [ -7.45051467,  -9.91151852],\n",
              "       [-11.20862134, -16.99179135],\n",
              "       [ -7.72777081,  -8.66748923],\n",
              "       [-17.06088686, -13.39396618],\n",
              "       [-12.42106877, -16.17854655],\n",
              "       [ -9.10254244, -10.42698452],\n",
              "       [-14.55876642, -11.0198962 ],\n",
              "       [ -6.92212498, -10.99699902],\n",
              "       [-11.33739308, -11.77737175],\n",
              "       [ -8.25300601, -11.02451954],\n",
              "       [-10.11000905,         -inf],\n",
              "       [ -8.94154365,  -8.88034751],\n",
              "       [-10.53282837,  -9.94889677],\n",
              "       [        -inf, -11.6534175 ],\n",
              "       [-10.01832697, -10.79743565],\n",
              "       [ -7.38416044,  -9.82595263],\n",
              "       [-14.14298651, -15.12360776],\n",
              "       [ -6.7273809 ,  -8.56338566],\n",
              "       [-15.19399715, -14.77016725],\n",
              "       [ -9.80788196,  -9.7833174 ],\n",
              "       [-10.96382678,  -9.52904293],\n",
              "       [ -7.84617882,  -8.80311334],\n",
              "       [-15.35269444, -15.52364621],\n",
              "       [-13.95698603, -12.26512464],\n",
              "       [ -9.58771637, -11.36061378],\n",
              "       [ -9.93154317, -12.94189855],\n",
              "       [-12.61073614, -10.57771508],\n",
              "       [ -9.36005717, -11.17468019],\n",
              "       [-12.56906658, -12.44025017],\n",
              "       [ -6.84208227,  -8.35794169],\n",
              "       [ -6.92212498, -11.34327525],\n",
              "       [ -7.01330086, -11.81376015],\n",
              "       [ -7.07896996,  -9.71768935],\n",
              "       [ -9.3704996 ,  -8.72155645],\n",
              "       [ -8.48017091, -11.19810459],\n",
              "       [-13.63557472, -12.88749164],\n",
              "       [ -7.52476751,  -9.42548034],\n",
              "       [-10.85789008,         -inf],\n",
              "       [ -8.64830783, -12.08670512],\n",
              "       [-11.77562916, -11.05206366],\n",
              "       [ -9.66888969,  -9.25699061],\n",
              "       [ -8.40900926, -12.73480066],\n",
              "       [-15.72816151, -13.92251695],\n",
              "       [-14.49391347, -12.23405101],\n",
              "       [-10.9864172 ,         -inf],\n",
              "       [ -7.3790557 ,  -9.22877004],\n",
              "       [-14.0301595 , -12.25888298],\n",
              "       [ -7.07896996,  -9.37141312],\n",
              "       [ -9.88780491, -12.33367396],\n",
              "       [-17.20659867, -13.59067648],\n",
              "       [-11.96487116, -13.18029536],\n",
              "       [ -8.39196694,  -9.53248667],\n",
              "       [ -6.99087575, -11.81442239],\n",
              "       [-12.42962373, -11.82986877],\n",
              "       [ -7.58713704, -12.27758449],\n",
              "       [ -6.97247886,  -8.83127311],\n",
              "       [ -8.93819336,  -9.61653557],\n",
              "       [-10.04087184,  -9.45776312],\n",
              "       [-12.55661426, -16.56623949],\n",
              "       [ -7.84617882,  -8.80311334],\n",
              "       [ -7.61527216, -10.65012807],\n",
              "       [ -8.23330976, -13.20760172],\n",
              "       [-11.77477652, -10.67486771],\n",
              "       [-14.28869833, -15.32031805],\n",
              "       [ -9.11461502, -10.73463475],\n",
              "       [ -8.0378317 , -10.02151941],\n",
              "       [ -8.7197668 , -11.56607549],\n",
              "       [-12.29625482, -11.04177839],\n",
              "       [ -7.45051467,  -9.56524228],\n",
              "       [-12.35322233, -10.757179  ],\n",
              "       [ -8.03448141, -10.0645603 ],\n",
              "       [-14.65236223, -13.76199946],\n",
              "       [ -7.28442148,  -9.36997747],\n",
              "       [-15.18643568, -13.42077744],\n",
              "       [-11.02354435, -10.69206092],\n",
              "       [-10.73393809, -10.98272241],\n",
              "       [ -8.60417895,  -8.15837832],\n",
              "       [ -8.87688861,  -9.15543877],\n",
              "       [ -7.91393114,  -8.45224125],\n",
              "       [ -9.11473478,  -9.90645008],\n",
              "       [-13.43546309, -11.17357216],\n",
              "       [ -8.55713195,  -9.71969494],\n",
              "       [ -9.70454394,         -inf],\n",
              "       [ -8.74637395, -13.80364079],\n",
              "       [-13.74380975, -12.86979206],\n",
              "       [ -6.84208227,  -8.35794169],\n",
              "       [-12.49400599, -10.26010934],\n",
              "       [ -7.155931  ,  -9.44325251],\n",
              "       [ -6.89551782,  -9.10570995],\n",
              "       [-10.48379544,  -9.22591697],\n",
              "       [-10.40948093, -11.269642  ],\n",
              "       [ -8.49993843,  -9.66020409],\n",
              "       [ -8.54683036, -11.46236227],\n",
              "       [ -9.61336806,         -inf],\n",
              "       [ -8.7558718 , -10.86929854],\n",
              "       [ -7.74887589, -10.82341114],\n",
              "       [ -8.94834758,  -9.83818724],\n",
              "       [ -9.3387149 , -13.28164226],\n",
              "       [ -8.86458261,  -8.80850812],\n",
              "       [-13.50215871, -14.85215033],\n",
              "       [-10.20756157, -11.42314155],\n",
              "       [ -8.91889547,         -inf],\n",
              "       [-11.35075501, -13.00272359],\n",
              "       [ -8.89537584,  -9.40879137],\n",
              "       [-16.55686233, -12.96580635],\n",
              "       [ -9.25579824,  -8.92700042],\n",
              "       [ -8.08759795, -13.01089142],\n",
              "       [-16.86175819, -13.07985085],\n",
              "       [ -8.62859091, -10.74931436],\n",
              "       [-10.6293093 , -12.82864246],\n",
              "       [ -8.46260578, -10.33167434],\n",
              "       [-12.20336471, -11.26035415],\n",
              "       [ -7.4525584 , -10.258578  ],\n",
              "       [ -7.34335911,  -9.85311289],\n",
              "       [ -6.80434194,  -8.63522505],\n",
              "       [-10.78142335, -11.04185807],\n",
              "       [ -7.68402293, -10.77499898],\n",
              "       [-16.30449258, -11.8356457 ],\n",
              "       [ -6.80434194,  -8.63522505],\n",
              "       [ -8.23330976, -13.20760172],\n",
              "       [ -7.25218323,  -8.69007552],\n",
              "       [ -7.39239296,  -9.84397113],\n",
              "       [-14.98696849, -13.28631812],\n",
              "       [ -7.24668115,  -9.3009846 ],\n",
              "       [ -7.78230674,  -7.70116215],\n",
              "       [ -7.39239296,  -9.84397113],\n",
              "       [ -7.36446419, -12.0090348 ],\n",
              "       [-13.65293434, -11.53656542],\n",
              "       [-17.70332537, -14.24049853],\n",
              "       [ -7.38416044,  -9.47967639],\n",
              "       [-10.9913061 , -10.35843521],\n",
              "       [ -7.06783679, -11.19370931],\n",
              "       [-13.26035657, -13.16265601],\n",
              "       [-16.16968486, -14.31204579],\n",
              "       [-11.28388072, -11.30534741],\n",
              "       [ -8.25300601, -11.02451954],\n",
              "       [ -7.39789504,  -9.23306205],\n",
              "       [-10.87305367, -11.86782737],\n",
              "       [ -9.91510871, -11.70220767],\n",
              "       [ -8.14703099,  -9.73383734],\n",
              "       [-14.29904869, -12.16218355],\n",
              "       [ -8.14703099, -10.08070828],\n",
              "       [ -7.36138252,  -9.44181687]])"
            ]
          },
          "metadata": {},
          "execution_count": 27
        }
      ]
    },
    {
      "cell_type": "code",
      "source": [
        "df_train.columns"
      ],
      "metadata": {
        "colab": {
          "base_uri": "https://localhost:8080/"
        },
        "id": "zs7b5MTOS06o",
        "outputId": "ce2eb12e-79f8-49af-9b6b-41f81b23320a"
      },
      "execution_count": null,
      "outputs": [
        {
          "output_type": "execute_result",
          "data": {
            "text/plain": [
              "Int64Index([0, 1, 2, 3, 4, 5, 6, 7, 8, 9], dtype='int64')"
            ]
          },
          "metadata": {},
          "execution_count": 28
        }
      ]
    },
    {
      "cell_type": "code",
      "source": [
        "# Let's encode for each data point the class to which it belongs\n",
        "df_train.loc[:,'prediction'] = np.array(class_names)[np.argmax(pos, axis=1)]"
      ],
      "metadata": {
        "colab": {
          "base_uri": "https://localhost:8080/"
        },
        "id": "jXAYKLLITJOy",
        "outputId": "bf861410-0245-4d4a-c529-02f97cec643b"
      },
      "execution_count": null,
      "outputs": [
        {
          "output_type": "stream",
          "name": "stderr",
          "text": [
            "/usr/local/lib/python3.8/dist-packages/pandas/core/indexing.py:1667: SettingWithCopyWarning: \n",
            "A value is trying to be set on a copy of a slice from a DataFrame.\n",
            "Try using .loc[row_indexer,col_indexer] = value instead\n",
            "\n",
            "See the caveats in the documentation: https://pandas.pydata.org/pandas-docs/stable/user_guide/indexing.html#returning-a-view-versus-a-copy\n",
            "  self.obj[key] = value\n"
          ]
        }
      ]
    },
    {
      "cell_type": "code",
      "source": [
        "from sklearn.preprocessing import LabelEncoder\n",
        "from sklearn.metrics import f1_score"
      ],
      "metadata": {
        "id": "AYKhhjh0TkIg"
      },
      "execution_count": null,
      "outputs": []
    },
    {
      "cell_type": "code",
      "source": [
        "binarizer = LabelEncoder()\n",
        "binarizer.fit(df[0].values)"
      ],
      "metadata": {
        "colab": {
          "base_uri": "https://localhost:8080/"
        },
        "id": "qqUWcmnaT3u5",
        "outputId": "110844d8-30a8-4d39-dfde-67c784be112e"
      },
      "execution_count": null,
      "outputs": [
        {
          "output_type": "execute_result",
          "data": {
            "text/plain": [
              "LabelEncoder()"
            ]
          },
          "metadata": {},
          "execution_count": 34
        }
      ]
    },
    {
      "cell_type": "code",
      "source": [
        "print(\"Train Accuray=\", (df_train[0]==df_train['prediction']).sum()/df_train.shape[0] )"
      ],
      "metadata": {
        "colab": {
          "base_uri": "https://localhost:8080/"
        },
        "id": "afgjNr_tUCLQ",
        "outputId": "ffc00cb1-3d5c-4b88-8266-4512d1444b55"
      },
      "execution_count": null,
      "outputs": [
        {
          "output_type": "stream",
          "name": "stdout",
          "text": [
            "Train Accuray= 0.7456140350877193\n"
          ]
        }
      ]
    },
    {
      "cell_type": "code",
      "source": [
        "#F1 score calculation for skewed data\n",
        "print(\"Train F1-score\",  f1_score(binarizer.transform(df_train[0].values), binarizer.transform(df_train['prediction'].values), average='macro' ))"
      ],
      "metadata": {
        "colab": {
          "base_uri": "https://localhost:8080/"
        },
        "id": "WYe7lMZ9UHvZ",
        "outputId": "f80eafc0-a224-42a6-e4e3-d0a4557fe042"
      },
      "execution_count": null,
      "outputs": [
        {
          "output_type": "stream",
          "name": "stdout",
          "text": [
            "Train F1-score 0.6961397058823529\n"
          ]
        }
      ]
    },
    {
      "cell_type": "markdown",
      "source": [
        "# Test"
      ],
      "metadata": {
        "id": "G22Ui0RgUKRF"
      }
    },
    {
      "cell_type": "code",
      "source": [
        "pos_t = np.zeros((df_test.shape[0], len(class_names)) )\n",
        "for i in range(df_test.shape[0]):\n",
        "    for j, cls in enumerate(class_names):\n",
        "        pos_i = np.log(prior[cls])\n",
        "        for col in range(1, 10):\n",
        "          pos_i = pos_i + np.log( likeli[cls][col][df_test.iloc[i,col]] )\n",
        "        pos_t[i, j] = pos_i"
      ],
      "metadata": {
        "colab": {
          "base_uri": "https://localhost:8080/"
        },
        "id": "SpAoRVkRULul",
        "outputId": "e209e5cf-581a-433b-ce45-ad8b35803806"
      },
      "execution_count": null,
      "outputs": [
        {
          "output_type": "stream",
          "name": "stderr",
          "text": [
            "<ipython-input-37-b02d2edb9474>:6: RuntimeWarning: divide by zero encountered in log\n",
            "  pos_i = pos_i + np.log( likeli[cls][col][df_test.iloc[i,col]] )\n"
          ]
        }
      ]
    },
    {
      "cell_type": "code",
      "source": [
        "df_test.loc[:, 'prediction'] = np.array(class_names)[np.argmax(pos_t, axis=1)]"
      ],
      "metadata": {
        "colab": {
          "base_uri": "https://localhost:8080/"
        },
        "id": "Ik2I6CNaUYgW",
        "outputId": "68550c15-d31a-471d-8725-b84fd15d4322"
      },
      "execution_count": null,
      "outputs": [
        {
          "output_type": "stream",
          "name": "stderr",
          "text": [
            "/usr/local/lib/python3.8/dist-packages/pandas/core/indexing.py:1667: SettingWithCopyWarning: \n",
            "A value is trying to be set on a copy of a slice from a DataFrame.\n",
            "Try using .loc[row_indexer,col_indexer] = value instead\n",
            "\n",
            "See the caveats in the documentation: https://pandas.pydata.org/pandas-docs/stable/user_guide/indexing.html#returning-a-view-versus-a-copy\n",
            "  self.obj[key] = value\n"
          ]
        }
      ]
    },
    {
      "cell_type": "code",
      "source": [
        "print(\"Test Accuray=\", (df_test[0]==df_test['prediction']).sum()/df_test.shape[0] )"
      ],
      "metadata": {
        "colab": {
          "base_uri": "https://localhost:8080/"
        },
        "id": "DJFnH0RvUcek",
        "outputId": "51936aab-1ef4-432c-e1f0-cfe870f226d3"
      },
      "execution_count": null,
      "outputs": [
        {
          "output_type": "stream",
          "name": "stdout",
          "text": [
            "Test Accuray= 0.7586206896551724\n"
          ]
        }
      ]
    },
    {
      "cell_type": "code",
      "source": [
        "\n",
        "print(\"Test F1-score\",  f1_score(binarizer.transform(df_test[0].values), binarizer.transform(df_test['prediction'].values), average='macro' ))"
      ],
      "metadata": {
        "colab": {
          "base_uri": "https://localhost:8080/"
        },
        "id": "7H3wAylbUesF",
        "outputId": "5017851b-ec35-42f8-fd89-e8ba63cc312f"
      },
      "execution_count": null,
      "outputs": [
        {
          "output_type": "stream",
          "name": "stdout",
          "text": [
            "Test F1-score 0.6852713178294574\n"
          ]
        }
      ]
    },
    {
      "cell_type": "code",
      "source": [],
      "metadata": {
        "id": "H-mmHIMnUf_q"
      },
      "execution_count": null,
      "outputs": []
    }
  ]
}